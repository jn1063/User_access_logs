{
 "cells": [
  {
   "cell_type": "code",
   "execution_count": 1,
   "metadata": {},
   "outputs": [],
   "source": [
    "##Jiwan, Dorky, Kyle "
   ]
  },
  {
   "cell_type": "code",
   "execution_count": 2,
   "metadata": {},
   "outputs": [
    {
     "name": "stdout",
     "output_type": "stream",
     "text": [
      "    employee_number  first_name   last_name  \\\n",
      "0         EMP003037     Juliana    Burbudge   \n",
      "1         EMP003045      Lizzie        Blue   \n",
      "2         EMP003051     Marjory    Selcraig   \n",
      "3         EMP003068      Aguste    O'Connor   \n",
      "4         EMP003097     Clemens      Kopman   \n",
      "..              ...         ...         ...   \n",
      "970       EMP024864    Kristina       Yakov   \n",
      "971       EMP024885   Margarita  Habbergham   \n",
      "972       EMP024890    Prescott   Southward   \n",
      "973       EMP024896       Raine     Learned   \n",
      "974       EMP024931  Frederique        Fant   \n",
      "\n",
      "                                    email              title  \n",
      "0        juliana.burbudge@consultants.com  Director of Sales  \n",
      "1             lizzie.blue@consultants.com    Sales Assistant  \n",
      "2        marjory.selcraig@consultants.com    Sales Assistant  \n",
      "3         aguste.o'connor@consultants.com    Sales Assistant  \n",
      "4          clemens.kopman@consultants.com    Account Manager  \n",
      "..                                    ...                ...  \n",
      "970        kristina.yakov@consultants.com    Sales Assistant  \n",
      "971  margarita.habbergham@consultants.com    Account Manager  \n",
      "972    prescott.southward@consultants.com    Sales Assistant  \n",
      "973         raine.learned@consultants.com    Account Manager  \n",
      "974       frederique.fant@consultants.com    Account Manager  \n",
      "\n",
      "[975 rows x 5 columns]\n",
      "        id    access_level\n",
      "0     3045  Contract Entry\n",
      "1     3051  Contract Entry\n",
      "2     3068  Contract Entry\n",
      "3     3097   Account Admin\n",
      "4     3133  Contract Entry\n",
      "..     ...             ...\n",
      "833  24862  Contract Entry\n",
      "834  24864  Contract Entry\n",
      "835  24885   Account Admin\n",
      "836  24890  Contract Entry\n",
      "837  24896   Account Admin\n",
      "\n",
      "[838 rows x 2 columns]\n"
     ]
    }
   ],
   "source": [
    "import pandas as pd\n",
    "\n",
    "df_employees = pd.read_csv ('../User_access_logs/employees.csv')   #read the csv file (put 'r' before the path string to address any special characters in the path, such as '\\'). Don't forget to put the file name at the end of the path + \".csv\"\n",
    "df_system_access = pd.read_csv ('../User_access_logs/system_access.csv')\n",
    "\n",
    "print (df_employees)\n",
    "print (df_system_access)"
   ]
  },
  {
   "cell_type": "code",
   "execution_count": null,
   "metadata": {},
   "outputs": [],
   "source": []
  }
 ],
 "metadata": {
  "kernelspec": {
   "display_name": "Python 3",
   "language": "python",
   "name": "python3"
  },
  "language_info": {
   "codemirror_mode": {
    "name": "ipython",
    "version": 3
   },
   "file_extension": ".py",
   "mimetype": "text/x-python",
   "name": "python",
   "nbconvert_exporter": "python",
   "pygments_lexer": "ipython3",
   "version": "3.8.3"
  }
 },
 "nbformat": 4,
 "nbformat_minor": 4
}
